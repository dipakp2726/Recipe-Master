{
  "nbformat": 4,
  "nbformat_minor": 0,
  "metadata": {
    "colab": {
      "name": "model.ipynb",
      "provenance": [],
      "collapsed_sections": [
        "kSgs2c3ysG6L",
        "_9ieHy6FE3Iv"
      ],
      "toc_visible": true,
      "include_colab_link": true
    },
    "kernelspec": {
      "name": "python3",
      "display_name": "Python 3"
    },
    "accelerator": "GPU"
  },
  "cells": [
    {
      "cell_type": "markdown",
      "metadata": {
        "id": "view-in-github",
        "colab_type": "text"
      },
      "source": [
        "<a href=\"https://colab.research.google.com/github/dipakp2726/Recipe-Master/blob/devlope/model_mobilenetV3.ipynb\" target=\"_parent\"><img src=\"https://colab.research.google.com/assets/colab-badge.svg\" alt=\"Open In Colab\"/></a>"
      ]
    },
    {
      "cell_type": "code",
      "metadata": {
        "id": "PH6nUSDalqvd"
      },
      "source": [
        ""
      ],
      "execution_count": null,
      "outputs": []
    },
    {
      "cell_type": "markdown",
      "metadata": {
        "id": "E8PTgZQFq2nn"
      },
      "source": [
        "# Importing libs\r\n"
      ]
    },
    {
      "cell_type": "code",
      "metadata": {
        "id": "7I88Pw-ReI4o"
      },
      "source": [
        "import numpy as np\n",
        "import os\n",
        "import PIL\n",
        "import PIL.Image\n",
        "import pathlib\n",
        "import tensorflow as tf\n",
        " \n",
        "import matplotlib.pyplot as plt\n",
        "from tensorflow.keras.preprocessing import image_dataset_from_directory\n",
        "from tensorflow.keras import layers"
      ],
      "execution_count": 1,
      "outputs": []
    },
    {
      "cell_type": "code",
      "metadata": {
        "id": "9bdT-ZmefQos",
        "colab": {
          "base_uri": "https://localhost:8080/"
        },
        "outputId": "31e51546-b117-4bfa-8e00-200c691b4b23"
      },
      "source": [
        "print(tf.__version__)"
      ],
      "execution_count": 2,
      "outputs": [
        {
          "output_type": "stream",
          "text": [
            "2.4.1\n"
          ],
          "name": "stdout"
        }
      ]
    },
    {
      "cell_type": "code",
      "metadata": {
        "colab": {
          "base_uri": "https://localhost:8080/"
        },
        "id": "VTR7URDlPWdb",
        "outputId": "f93997ba-468d-4965-8c50-0107d72b8664"
      },
      "source": [
        "from google.colab import drive\n",
        "drive.mount('/content/drive',force_remount=False)"
      ],
      "execution_count": 3,
      "outputs": [
        {
          "output_type": "stream",
          "text": [
            "Mounted at /content/drive\n"
          ],
          "name": "stdout"
        }
      ]
    },
    {
      "cell_type": "markdown",
      "metadata": {
        "id": "k9Afl9r-rf6s"
      },
      "source": [
        "# setting path to dataset and parameters"
      ]
    },
    {
      "cell_type": "code",
      "metadata": {
        "id": "M61NgZVafXii"
      },
      "source": [
        "data_dir ='/content/drive/MyDrive/Recipe Master/dataset/dataset' \r\n",
        "data_dir = pathlib.Path(data_dir)"
      ],
      "execution_count": 4,
      "outputs": []
    },
    {
      "cell_type": "code",
      "metadata": {
        "id": "tRImIcZYc0m_"
      },
      "source": [
        "class_names = os.listdir(data_dir)"
      ],
      "execution_count": 47,
      "outputs": []
    },
    {
      "cell_type": "code",
      "metadata": {
        "id": "0GVkL_snfYRK"
      },
      "source": [
        "batch_size = 32\r\n",
        "img_height = 224\r\n",
        "img_width = 224\r\n",
        "IMG_SIZE = (img_height,img_width)"
      ],
      "execution_count": 5,
      "outputs": []
    },
    {
      "cell_type": "code",
      "metadata": {
        "id": "YO291m2Lfynt"
      },
      "source": [
        "# batch_size = 32\r\n",
        "# img_height = 299\r\n",
        "# img_width = 299\r\n",
        "# IMG_SIZE = (img_height,img_width)"
      ],
      "execution_count": 66,
      "outputs": []
    },
    {
      "cell_type": "markdown",
      "metadata": {
        "id": "sf8oiKtCrpg8"
      },
      "source": [
        "# spliting validation,test and train data"
      ]
    },
    {
      "cell_type": "code",
      "metadata": {
        "id": "KOy4BnVXfYT9",
        "colab": {
          "base_uri": "https://localhost:8080/"
        },
        "outputId": "3be303ea-482c-4f74-84af-9bdbf689cba7"
      },
      "source": [
        "train_ds = tf.keras.preprocessing.image_dataset_from_directory(\r\n",
        "  data_dir,\r\n",
        "  shuffle=True,\r\n",
        "  validation_split=0.2,\r\n",
        "  subset=\"training\",\r\n",
        "  seed=123,\r\n",
        "  image_size=(img_height, img_width),\r\n",
        "  batch_size=batch_size)"
      ],
      "execution_count": 67,
      "outputs": [
        {
          "output_type": "stream",
          "text": [
            "Found 3000 files belonging to 6 classes.\n",
            "Using 2400 files for training.\n"
          ],
          "name": "stdout"
        }
      ]
    },
    {
      "cell_type": "code",
      "metadata": {
        "id": "ZL7JLAVMfYW1",
        "colab": {
          "base_uri": "https://localhost:8080/"
        },
        "outputId": "f50e0b01-c0d5-4623-9d38-0fe2a289fa95"
      },
      "source": [
        "val_ds = tf.keras.preprocessing.image_dataset_from_directory(\r\n",
        "  data_dir,\r\n",
        "  shuffle=True,\r\n",
        "  validation_split=0.2,\r\n",
        "  subset=\"validation\",\r\n",
        "  seed=123,\r\n",
        "  image_size=(img_height, img_width),\r\n",
        "  batch_size=batch_size)"
      ],
      "execution_count": 68,
      "outputs": [
        {
          "output_type": "stream",
          "text": [
            "Found 3000 files belonging to 6 classes.\n",
            "Using 600 files for validation.\n"
          ],
          "name": "stdout"
        }
      ]
    },
    {
      "cell_type": "code",
      "metadata": {
        "id": "lENZudjZr9A5"
      },
      "source": [
        "val_batches = tf.data.experimental.cardinality(val_ds)\r\n",
        "test_ds = val_ds.take(val_batches // 5)\r\n",
        "val_ds = val_ds.skip(val_batches // 5)"
      ],
      "execution_count": 69,
      "outputs": []
    },
    {
      "cell_type": "code",
      "metadata": {
        "id": "8UPsgP8tsrDA",
        "colab": {
          "base_uri": "https://localhost:8080/"
        },
        "outputId": "11050497-9cbf-44b1-881a-3e38ad7822d9"
      },
      "source": [
        "print('Number of validation batches: %d' % tf.data.experimental.cardinality(val_ds))\r\n",
        "print('Number of test batches: %d' % tf.data.experimental.cardinality(test_ds))"
      ],
      "execution_count": 9,
      "outputs": [
        {
          "output_type": "stream",
          "text": [
            "Number of validation batches: 16\n",
            "Number of test batches: 3\n"
          ],
          "name": "stdout"
        }
      ]
    },
    {
      "cell_type": "code",
      "metadata": {
        "id": "ayMRNJ1Js4z_"
      },
      "source": [
        ""
      ],
      "execution_count": null,
      "outputs": []
    },
    {
      "cell_type": "markdown",
      "metadata": {
        "id": "kSgs2c3ysG6L"
      },
      "source": [
        "# printing class names and random images from dataset"
      ]
    },
    {
      "cell_type": "code",
      "metadata": {
        "id": "Qx3KkmzWiJxq",
        "colab": {
          "base_uri": "https://localhost:8080/"
        },
        "outputId": "c979e4dd-5211-4ec5-f9cb-451297f4d404"
      },
      "source": [
        "class_names = train_ds.class_names\r\n",
        "print(class_names)"
      ],
      "execution_count": null,
      "outputs": [
        {
          "output_type": "stream",
          "text": [
            "['Handvo', 'Khaman', 'Khandvi', 'Muthiya', 'Thepla', 'Undhiyu']\n"
          ],
          "name": "stdout"
        }
      ]
    },
    {
      "cell_type": "code",
      "metadata": {
        "id": "Xj0EACYojgEp"
      },
      "source": [
        "plt.figure(figsize=(10, 10))\r\n",
        "for images, labels in train_ds.take(1):\r\n",
        "  for i in range(9):\r\n",
        "    ax = plt.subplot(3, 3, i + 1)\r\n",
        "    plt.imshow(images[i].numpy().astype(\"uint8\"))\r\n",
        "    plt.title(class_names[labels[i]])\r\n",
        "    plt.axis(\"off\")"
      ],
      "execution_count": null,
      "outputs": []
    },
    {
      "cell_type": "code",
      "metadata": {
        "id": "vzCB9lhwjg7G",
        "colab": {
          "base_uri": "https://localhost:8080/"
        },
        "outputId": "9c723235-1161-4aec-dc91-b8cff58c6971"
      },
      "source": [
        "for image_batch, labels_batch in train_ds:\r\n",
        "  print(image_batch.shape)\r\n",
        "  print(labels_batch.shape)\r\n",
        "  break"
      ],
      "execution_count": null,
      "outputs": [
        {
          "output_type": "stream",
          "text": [
            "(32, 224, 224, 3)\n",
            "(32,)\n"
          ],
          "name": "stdout"
        }
      ]
    },
    {
      "cell_type": "code",
      "metadata": {
        "id": "uWPO4sMUkYNy"
      },
      "source": [
        ""
      ],
      "execution_count": null,
      "outputs": []
    },
    {
      "cell_type": "markdown",
      "metadata": {
        "id": "OPz9AvcxtAz8"
      },
      "source": [
        "# datapreprocessing"
      ]
    },
    {
      "cell_type": "code",
      "metadata": {
        "id": "P0BH-9WGkdll"
      },
      "source": [
        "# normalizing img weights\r\n",
        "\r\n",
        "rescale = tf.keras.Sequential([\r\n",
        "  layers.experimental.preprocessing.Rescaling(1./255)\r\n",
        "])"
      ],
      "execution_count": 70,
      "outputs": []
    },
    {
      "cell_type": "code",
      "metadata": {
        "id": "fH5k8JupGtIP"
      },
      "source": [
        "# data augmentation\r\n",
        "data_augmentation = tf.keras.Sequential(\r\n",
        "  [\r\n",
        "    layers.experimental.preprocessing.RandomFlip(\"horizontal\"),\r\n",
        "    layers.experimental.preprocessing.RandomRotation(0.2),\r\n",
        "    layers.experimental.preprocessing.RandomZoom(0.1),\r\n",
        "   \r\n",
        "  ]\r\n",
        ")"
      ],
      "execution_count": 71,
      "outputs": []
    },
    {
      "cell_type": "code",
      "metadata": {
        "id": "lLyz3FEMGy5d"
      },
      "source": [
        "# augmentation preview\r\n",
        "for image, _ in train_ds.take(1):\r\n",
        "  plt.figure(figsize=(10, 10))\r\n",
        "  first_image = image[0]\r\n",
        "  for i in range(9):\r\n",
        "    ax = plt.subplot(3, 3, i + 1)\r\n",
        "    augmented_image = data_augmentation(tf.expand_dims(first_image, 0))\r\n",
        "    plt.imshow(augmented_image[0] / 255)\r\n",
        "    plt.axis('off')"
      ],
      "execution_count": null,
      "outputs": []
    },
    {
      "cell_type": "markdown",
      "metadata": {
        "id": "dN-9I5YItdxV"
      },
      "source": [
        "# model creation"
      ]
    },
    {
      "cell_type": "code",
      "metadata": {
        "id": "O9Ku5lGpHO7x",
        "colab": {
          "base_uri": "https://localhost:8080/"
        },
        "outputId": "0224ac2c-6de1-45fc-fe1c-da2d3a3bb99c"
      },
      "source": [
        "IMG_SHAPE = IMG_SIZE + (3,)\r\n",
        "\r\n",
        "# base_model = tf.keras.applications.ResNet101V2(include_top=False, weights='imagenet', input_shape=IMG_SHAPE, \r\n",
        "#                                                     pooling='max', classes=1000)\r\n",
        "# base_model = tf.keras.applications.resnet.ResNet101(include_top=False, weights='imagenet', input_shape=IMG_SHAPE, \r\n",
        "#                                                     pooling='avg', classes=1000)\r\n",
        "\r\n",
        "# base_model= tf.keras.applications.densenet.DenseNet121(include_top=False, weights='imagenet', input_shape=IMG_SHAPE, \r\n",
        "#                                                     pooling='avg', classes=1000)\r\n",
        "\r\n",
        "\r\n",
        "base_model = tf.keras.applications.MobileNetV3Large(\r\n",
        "    input_shape=IMG_SHAPE, alpha=1.0, minimalistic=False, include_top=False,\r\n",
        "    weights='imagenet', classes=1000, pooling=None,\r\n",
        "    dropout_rate=0.2, classifier_activation='softmax'\r\n",
        ")\r\n",
        "\r\n",
        "# base_model = tf.keras.applications.Xception(\r\n",
        "#     include_top=True, weights='imagenet', \r\n",
        "#     input_shape=IMG_SHAPE, pooling=None, classes=1000,\r\n",
        "#     classifier_activation='softmax'\r\n",
        "# )\r\n",
        "\r\n",
        "model_name= \"MobileNetV3Large\"\r\n",
        "\r\n",
        "# base_model =tf.keras.applications.InceptionV3(\r\n",
        "#     include_top=False, weights='imagenet',\r\n",
        "#     input_shape=IMG_SHAPE, pooling=max, classes=1000,\r\n",
        "#     classifier_activation='softmax'\r\n",
        "# )"
      ],
      "execution_count": 72,
      "outputs": [
        {
          "output_type": "stream",
          "text": [
            "Downloading data from https://storage.googleapis.com/tensorflow/keras-applications/xception/xception_weights_tf_dim_ordering_tf_kernels.h5\n",
            "91889664/91884032 [==============================] - 1s 0us/step\n"
          ],
          "name": "stdout"
        }
      ]
    },
    {
      "cell_type": "code",
      "metadata": {
        "id": "C_w_mmfRJbv7"
      },
      "source": [
        "base_model.trainable=False\r\n"
      ],
      "execution_count": 73,
      "outputs": []
    },
    {
      "cell_type": "code",
      "metadata": {
        "id": "VGAF5VMTJb4M"
      },
      "source": [
        "base_model.summary()"
      ],
      "execution_count": null,
      "outputs": []
    },
    {
      "cell_type": "code",
      "metadata": {
        "id": "5bBRggTJkhNt"
      },
      "source": [
        ""
      ],
      "execution_count": null,
      "outputs": []
    },
    {
      "cell_type": "code",
      "metadata": {
        "id": "ctLZXo4GlF-V"
      },
      "source": [
        "prediction_layer = tf.keras.layers.Dense(6,activation='softmax')"
      ],
      "execution_count": 75,
      "outputs": []
    },
    {
      "cell_type": "code",
      "metadata": {
        "id": "WkJ_xRO_KAO1"
      },
      "source": [
        ""
      ],
      "execution_count": 75,
      "outputs": []
    },
    {
      "cell_type": "code",
      "metadata": {
        "id": "DBQX5MeyKAQg"
      },
      "source": [
        "inputs = tf.keras.Input(shape=IMG_SHAPE)\r\n",
        "x = rescale(inputs)\r\n",
        "x = tf.keras.applications.mobilenet.preprocess_input(x)\r\n",
        "x = data_augmentation(inputs)\r\n",
        "x = base_model(x)\r\n",
        "# x = tf.keras.layers.GlobalAveragePooling2D()(x)\r\n",
        "x = tf.keras.layers.Dropout(0.2)(x)\r\n",
        "\r\n",
        "\r\n",
        "outputs = tf.keras.layers.Dense(6,activation='softmax')(x)\r\n",
        "\r\n",
        "\r\n",
        "\r\n",
        "# outputs = prediction_layer(x)\r\n",
        "model = tf.keras.Model(inputs,outputs )"
      ],
      "execution_count": 78,
      "outputs": []
    },
    {
      "cell_type": "code",
      "metadata": {
        "id": "xCrHHyOnKAUv"
      },
      "source": [
        "# base_learning_rate = 0.0001\r\n",
        "model.compile(optimizer=tf.keras.optimizers.Adam(),\r\n",
        "              loss=tf.keras.losses.SparseCategoricalCrossentropy(),\r\n",
        "              metrics=['accuracy'])"
      ],
      "execution_count": 79,
      "outputs": []
    },
    {
      "cell_type": "code",
      "metadata": {
        "id": "wWoDpz5VKAWZ"
      },
      "source": [
        "model.summary()"
      ],
      "execution_count": null,
      "outputs": []
    },
    {
      "cell_type": "code",
      "metadata": {
        "colab": {
          "base_uri": "https://localhost:8080/"
        },
        "id": "R4ezL4fLKAae",
        "outputId": "0360283d-38a3-4527-cd92-d39bf103dd77"
      },
      "source": [
        "loss0, accuracy0 = model.evaluate(val_ds)"
      ],
      "execution_count": 80,
      "outputs": [
        {
          "output_type": "stream",
          "text": [
            "16/16 [==============================] - 13s 469ms/step - loss: 1.7936 - accuracy: 0.1410\n"
          ],
          "name": "stdout"
        }
      ]
    },
    {
      "cell_type": "code",
      "metadata": {
        "colab": {
          "base_uri": "https://localhost:8080/"
        },
        "id": "buPKP8MxK-Zy",
        "outputId": "d18da10a-b52b-4084-8124-14113bae85fe"
      },
      "source": [
        "print(\"initial loss: {:.2f}\".format(loss0))\r\n",
        "print(\"initial accuracy: {:.2f}\".format(accuracy0))"
      ],
      "execution_count": 81,
      "outputs": [
        {
          "output_type": "stream",
          "text": [
            "initial loss: 1.79\n",
            "initial accuracy: 0.16\n"
          ],
          "name": "stdout"
        }
      ]
    },
    {
      "cell_type": "markdown",
      "metadata": {
        "id": "_9ieHy6FE3Iv"
      },
      "source": [
        "## Callbacks"
      ]
    },
    {
      "cell_type": "code",
      "metadata": {
        "id": "V1vomqTd_tKC"
      },
      "source": [
        "!mkdir checkpoint\r\n",
        "checkpoint_path = \"/content/checkpoint\"\r\n",
        "checkpoint_dir = os.path.dirname(checkpoint_path)\r\n",
        "\r\n",
        "# Create a callback that saves the model's weights\r\n",
        "cp_callback = tf.keras.callbacks.ModelCheckpoint(filepath=checkpoint_path,\r\n",
        "                                                 save_weights_only=True,\r\n",
        "                                                 verbose=1)"
      ],
      "execution_count": null,
      "outputs": []
    },
    {
      "cell_type": "code",
      "metadata": {
        "id": "ew5OZ0PWE8aE"
      },
      "source": [
        "class CollectBatchStats(tf.keras.callbacks.Callback):\r\n",
        "  def __init__(self):\r\n",
        "    self.batch_losses = []\r\n",
        "    self.batch_acc = []\r\n",
        "\r\n",
        "  def on_train_batch_end(self, batch, logs=None):\r\n",
        "    self.batch_losses.append(logs['loss'])\r\n",
        "    self.batch_acc.append(logs['acc'])\r\n",
        "    self.model.reset_metrics()\r\n",
        "\r\n",
        "batch_stats_callback = CollectBatchStats()"
      ],
      "execution_count": null,
      "outputs": []
    },
    {
      "cell_type": "markdown",
      "metadata": {
        "id": "GkQRW36Stoud"
      },
      "source": [
        "## traing model"
      ]
    },
    {
      "cell_type": "code",
      "metadata": {
        "id": "HJCh-bdkLSO_"
      },
      "source": [
        "AUTOTUNE = tf.data.experimental.AUTOTUNE\r\n",
        "\r\n",
        "train_ds = train_ds.cache().prefetch(buffer_size=AUTOTUNE)\r\n",
        "val_ds = val_ds.cache().prefetch(buffer_size=AUTOTUNE)\r\n",
        "test_ds = test_ds.cache().prefetch(buffer_size=AUTOTUNE)"
      ],
      "execution_count": 82,
      "outputs": []
    },
    {
      "cell_type": "code",
      "metadata": {
        "id": "k_n_IZMuLSQu"
      },
      "source": [
        "initial_epochs = 38\r\n",
        "history = model.fit(train_ds,\r\n",
        "                    epochs=initial_epochs,\r\n",
        "                    validation_data=val_ds)"
      ],
      "execution_count": null,
      "outputs": []
    },
    {
      "cell_type": "markdown",
      "metadata": {
        "id": "FzcF0u0itvBw"
      },
      "source": [
        "## plotting accuracy"
      ]
    },
    {
      "cell_type": "code",
      "metadata": {
        "id": "N476490SLSUf",
        "colab": {
          "base_uri": "https://localhost:8080/",
          "height": 513
        },
        "outputId": "d2e76af8-a633-4ad3-ddc3-e71b9c023891"
      },
      "source": [
        "acc = history.history['accuracy']\r\n",
        "val_acc = history.history['val_accuracy']\r\n",
        "# sparce_acc = history.history['sparse_categorical_accuracy']\r\n",
        "\r\n",
        "loss = history.history['loss']\r\n",
        "val_loss = history.history['val_loss']\r\n",
        "\r\n",
        "plt.figure(figsize=(8, 8))\r\n",
        "plt.subplot(2, 1, 1)\r\n",
        "plt.plot(acc, label='Training Accuracy')\r\n",
        "plt.plot(val_acc, label='Validation Accuracy')\r\n",
        "# plt.plot(sparce_acc, label='sparse_categorical_accuracy')\r\n",
        "plt.legend(loc='lower right')\r\n",
        "plt.ylabel('Accuracy')\r\n",
        "plt.ylim([min(plt.ylim()),1])\r\n",
        "plt.title('Training and Validation Accuracy')\r\n",
        "\r\n",
        "plt.subplot(2, 1, 2)\r\n",
        "plt.plot(loss, label='Training Loss')\r\n",
        "plt.plot(val_loss, label='Validation Loss')\r\n",
        "plt.legend(loc='upper right')\r\n",
        "plt.ylabel('Cross Entropy')\r\n",
        "plt.ylim([0,1.0])\r\n",
        "plt.title('Training and Validation Loss')\r\n",
        "plt.xlabel('epoch')\r\n",
        "plt.show()"
      ],
      "execution_count": 28,
      "outputs": [
        {
          "output_type": "display_data",
          "data": {
            "image/png": "[encoded data removed]",
            "text/plain": [
              "<Figure size 576x576 with 2 Axes>"
            ]
          },
          "metadata": {
            "tags": [],
            "needs_background": "light"
          }
        }
      ]
    },
    {
      "cell_type": "code",
      "metadata": {
        "id": "7Gs_Ydwx-PzW"
      },
      "source": [
        "\r\n",
        "model.save('/content/drive/MyDrive/Recipe Master/colab/saved model/Xception_first_round +6.h5')"
      ],
      "execution_count": 29,
      "outputs": []
    },
    {
      "cell_type": "code",
      "metadata": {
        "colab": {
          "base_uri": "https://localhost:8080/"
        },
        "id": "BLqaSTHf-aQP",
        "outputId": "d049537d-4fb9-42fc-a60d-82c67c0f6083"
      },
      "source": [
        "\r\n",
        "loss0, accuracy0 = model.evaluate(test_ds)"
      ],
      "execution_count": 30,
      "outputs": [
        {
          "output_type": "stream",
          "text": [
            "3/3 [==============================] - 4s 278ms/step - loss: 0.4107 - accuracy: 0.8542\n"
          ],
          "name": "stdout"
        }
      ]
    },
    {
      "cell_type": "code",
      "metadata": {
        "colab": {
          "base_uri": "https://localhost:8080/"
        },
        "id": "NHAqI72X-aQR",
        "outputId": "88d7c69b-72cf-48f2-ff5d-ffcccf240ba3"
      },
      "source": [
        "print(\"test loss: {:.2f}\".format(loss0))\r\n",
        "print(\"test accuracy: {:.2f}\".format(accuracy0))"
      ],
      "execution_count": 31,
      "outputs": [
        {
          "output_type": "stream",
          "text": [
            "test loss: 0.41\n",
            "test accuracy: 0.85\n"
          ],
          "name": "stdout"
        }
      ]
    },
    {
      "cell_type": "code",
      "metadata": {
        "id": "cig-OcKt-hCd"
      },
      "source": [
        ""
      ],
      "execution_count": null,
      "outputs": []
    },
    {
      "cell_type": "markdown",
      "metadata": {
        "id": "SuTz3y3PUb_H"
      },
      "source": [
        "#fine tuning"
      ]
    },
    {
      "cell_type": "code",
      "metadata": {
        "colab": {
          "base_uri": "https://localhost:8080/"
        },
        "id": "7k23mLuKUeV0",
        "outputId": "041e82eb-69c0-46eb-ddcd-16580a3f00c6"
      },
      "source": [
        "base_model.trainable = True\r\n",
        "model.summary()"
      ],
      "execution_count": 32,
      "outputs": [
        {
          "output_type": "stream",
          "text": [
            "Model: \"model_1\"\n",
            "_________________________________________________________________\n",
            "Layer (type)                 Output Shape              Param #   \n",
            "=================================================================\n",
            "input_4 (InputLayer)         [(None, 224, 224, 3)]     0         \n",
            "_________________________________________________________________\n",
            "sequential_1 (Sequential)    (None, 224, 224, 3)       0         \n",
            "_________________________________________________________________\n",
            "MobilenetV3large (Functional (None, 7, 7, 1280)        4226432   \n",
            "_________________________________________________________________\n",
            "global_average_pooling2d (Gl (None, 1280)              0         \n",
            "_________________________________________________________________\n",
            "dropout_1 (Dropout)          (None, 1280)              0         \n",
            "_________________________________________________________________\n",
            "dense_2 (Dense)              (None, 6)                 7686      \n",
            "=================================================================\n",
            "Total params: 4,234,118\n",
            "Trainable params: 4,209,718\n",
            "Non-trainable params: 24,400\n",
            "_________________________________________________________________\n"
          ],
          "name": "stdout"
        }
      ]
    },
    {
      "cell_type": "code",
      "metadata": {
        "id": "cN-nZLVNUenO"
      },
      "source": [
        "# low learning rate\r\n",
        "model.compile(optimizer=tf.keras.optimizers.Adam(1e-5),\r\n",
        "              loss=tf.keras.losses.SparseCategoricalCrossentropy(),\r\n",
        "              metrics=['accuracy'])"
      ],
      "execution_count": 33,
      "outputs": []
    },
    {
      "cell_type": "code",
      "metadata": {
        "colab": {
          "base_uri": "https://localhost:8080/"
        },
        "id": "0BHI6X7zVAHm",
        "outputId": "4128498e-b97f-4bc4-8ea3-c306d0528378"
      },
      "source": [
        "epochs = 20\r\n",
        "history2 = model.fit(train_ds,\r\n",
        "                    epochs=epochs,\r\n",
        "                    validation_data=val_ds)"
      ],
      "execution_count": 38,
      "outputs": [
        {
          "output_type": "stream",
          "text": [
            "Epoch 1/20\n",
            "75/75 [==============================] - 15s 196ms/step - loss: 0.2574 - accuracy: 0.9083 - val_loss: 0.2168 - val_accuracy: 0.9206\n",
            "Epoch 2/20\n",
            "75/75 [==============================] - 15s 198ms/step - loss: 0.2386 - accuracy: 0.9175 - val_loss: 0.2047 - val_accuracy: 0.9266\n",
            "Epoch 3/20\n",
            "75/75 [==============================] - 15s 200ms/step - loss: 0.2114 - accuracy: 0.9296 - val_loss: 0.1945 - val_accuracy: 0.9325\n",
            "Epoch 4/20\n",
            "75/75 [==============================] - 15s 202ms/step - loss: 0.1946 - accuracy: 0.9358 - val_loss: 0.1863 - val_accuracy: 0.9345\n",
            "Epoch 5/20\n",
            "75/75 [==============================] - 15s 201ms/step - loss: 0.1815 - accuracy: 0.9446 - val_loss: 0.1779 - val_accuracy: 0.9365\n",
            "Epoch 6/20\n",
            "75/75 [==============================] - 15s 198ms/step - loss: 0.1724 - accuracy: 0.9404 - val_loss: 0.1700 - val_accuracy: 0.9385\n",
            "Epoch 7/20\n",
            "75/75 [==============================] - 15s 198ms/step - loss: 0.1488 - accuracy: 0.9521 - val_loss: 0.1589 - val_accuracy: 0.9484\n",
            "Epoch 8/20\n",
            "75/75 [==============================] - 15s 199ms/step - loss: 0.1479 - accuracy: 0.9542 - val_loss: 0.1551 - val_accuracy: 0.9524\n",
            "Epoch 9/20\n",
            "75/75 [==============================] - 15s 200ms/step - loss: 0.1350 - accuracy: 0.9596 - val_loss: 0.1511 - val_accuracy: 0.9504\n",
            "Epoch 10/20\n",
            "75/75 [==============================] - 15s 200ms/step - loss: 0.1289 - accuracy: 0.9600 - val_loss: 0.1467 - val_accuracy: 0.9544\n",
            "Epoch 11/20\n",
            "75/75 [==============================] - 15s 200ms/step - loss: 0.1207 - accuracy: 0.9646 - val_loss: 0.1413 - val_accuracy: 0.9484\n",
            "Epoch 12/20\n",
            "75/75 [==============================] - 15s 200ms/step - loss: 0.1234 - accuracy: 0.9592 - val_loss: 0.1361 - val_accuracy: 0.9544\n",
            "Epoch 13/20\n",
            "75/75 [==============================] - 15s 199ms/step - loss: 0.1044 - accuracy: 0.9679 - val_loss: 0.1317 - val_accuracy: 0.9563\n",
            "Epoch 14/20\n",
            "75/75 [==============================] - 15s 200ms/step - loss: 0.0966 - accuracy: 0.9729 - val_loss: 0.1296 - val_accuracy: 0.9563\n",
            "Epoch 15/20\n",
            "75/75 [==============================] - 15s 200ms/step - loss: 0.0942 - accuracy: 0.9737 - val_loss: 0.1242 - val_accuracy: 0.9583\n",
            "Epoch 16/20\n",
            "75/75 [==============================] - 15s 199ms/step - loss: 0.0811 - accuracy: 0.9796 - val_loss: 0.1226 - val_accuracy: 0.9563\n",
            "Epoch 17/20\n",
            "75/75 [==============================] - 15s 199ms/step - loss: 0.0811 - accuracy: 0.9775 - val_loss: 0.1193 - val_accuracy: 0.9583\n",
            "Epoch 18/20\n",
            "75/75 [==============================] - 15s 200ms/step - loss: 0.0739 - accuracy: 0.9787 - val_loss: 0.1177 - val_accuracy: 0.9663\n",
            "Epoch 19/20\n",
            "75/75 [==============================] - 15s 200ms/step - loss: 0.0709 - accuracy: 0.9808 - val_loss: 0.1134 - val_accuracy: 0.9603\n",
            "Epoch 20/20\n",
            "75/75 [==============================] - 15s 199ms/step - loss: 0.0704 - accuracy: 0.9808 - val_loss: 0.1102 - val_accuracy: 0.9643\n"
          ],
          "name": "stdout"
        }
      ]
    },
    {
      "cell_type": "code",
      "metadata": {
        "colab": {
          "base_uri": "https://localhost:8080/",
          "height": 513
        },
        "id": "2JzBaw05Wzd5",
        "outputId": "ca8c205a-b0fe-4ac2-f1e2-e35ef7d59f73"
      },
      "source": [
        "acc = history2.history['accuracy']\r\n",
        "val_acc = history2.history['val_accuracy']\r\n",
        "# sparce_acc = history.history['sparse_categorical_accuracy']\r\n",
        "\r\n",
        "loss = history2.history['loss']\r\n",
        "val_loss = history2.history['val_loss']\r\n",
        "\r\n",
        "plt.figure(figsize=(8, 8))\r\n",
        "plt.subplot(2, 1, 1)\r\n",
        "plt.plot(acc, label='Training Accuracy')\r\n",
        "plt.plot(val_acc, label='Validation Accuracy')\r\n",
        "# plt.plot(sparce_acc, label='sparse_categorical_accuracy')\r\n",
        "plt.legend(loc='lower right')\r\n",
        "plt.ylabel('Accuracy')\r\n",
        "plt.ylim([min(plt.ylim()),1])\r\n",
        "plt.title('Training and Validation Accuracy')\r\n",
        "\r\n",
        "plt.subplot(2, 1, 2)\r\n",
        "plt.plot(loss, label='Training Loss')\r\n",
        "plt.plot(val_loss, label='Validation Loss')\r\n",
        "plt.legend(loc='upper right')\r\n",
        "plt.ylabel('Cross Entropy')\r\n",
        "plt.ylim([0,1.0])\r\n",
        "plt.title('Training and Validation Loss')\r\n",
        "plt.xlabel('epoch')\r\n",
        "plt.show()"
      ],
      "execution_count": 39,
      "outputs": [
        {
          "output_type": "display_data",
          "data": {
            "image/png": "[encoded data removed]",
            "text/plain": [
              "<Figure size 576x576 with 2 Axes>"
            ]
          },
          "metadata": {
            "tags": [],
            "needs_background": "light"
          }
        }
      ]
    },
    {
      "cell_type": "code",
      "metadata": {
        "id": "uZl4PiK1XTrH"
      },
      "source": [
        ""
      ],
      "execution_count": null,
      "outputs": []
    },
    {
      "cell_type": "code",
      "metadata": {
        "colab": {
          "base_uri": "https://localhost:8080/"
        },
        "id": "7Xs-Lhd_XTy-",
        "outputId": "6abfc151-102b-4f6d-f7e1-07be3bd51a56"
      },
      "source": [
        "\r\n",
        "loss0, accuracy0 = model.evaluate(test_ds)"
      ],
      "execution_count": 59,
      "outputs": [
        {
          "output_type": "stream",
          "text": [
            "3/3 [==============================] - 0s 46ms/step - loss: 0.1483 - accuracy: 0.9479\n"
          ],
          "name": "stdout"
        }
      ]
    },
    {
      "cell_type": "code",
      "metadata": {
        "id": "qAW5JlU_XT4u"
      },
      "source": [
        "model.save('/content/drive/MyDrive/Recipe Master/colab/saved model/Xception_fining_round.h5')"
      ],
      "execution_count": 41,
      "outputs": []
    },
    {
      "cell_type": "code",
      "metadata": {
        "id": "J--CG3qiX1lp"
      },
      "source": [
        ""
      ],
      "execution_count": null,
      "outputs": []
    },
    {
      "cell_type": "markdown",
      "metadata": {
        "id": "q93ebAYNcMRu"
      },
      "source": [
        "#taking prediction"
      ]
    },
    {
      "cell_type": "code",
      "metadata": {
        "colab": {
          "base_uri": "https://localhost:8080/"
        },
        "id": "Xasr2B1zcPqG",
        "outputId": "3c152cbd-853c-4ab7-c950-138daf14b624"
      },
      "source": [
        "class_names"
      ],
      "execution_count": 56,
      "outputs": [
        {
          "output_type": "execute_result",
          "data": {
            "text/plain": [
              "['Khaman', 'Thepla', 'Khandvi', 'Undhiyu', 'Muthiya', 'Handvo']"
            ]
          },
          "metadata": {
            "tags": []
          },
          "execution_count": 56
        }
      ]
    },
    {
      "cell_type": "code",
      "metadata": {
        "colab": {
          "base_uri": "https://localhost:8080/"
        },
        "id": "AwxNvvW9cPtG",
        "outputId": "608fcda0-6f62-417f-b724-62f1055b0131"
      },
      "source": [
        "url = \"https://encrypted-tbn0.gstatic.com/images?q=tbn:ANd9GcT4mWJrdgGAcyLmbuNy4xpisjnZfF7UFNyWKg&usqp=CAU\"\r\n",
        "path = tf.keras.utils.get_file('Khaman', origin=url)\r\n",
        "\r\n",
        "img = tf.keras.preprocessing.image.load_img(\r\n",
        "    path, target_size=(img_height, img_width)\r\n",
        ")\r\n",
        "img_array = tf.keras.preprocessing.image.img_to_array(img)\r\n",
        "img_array = tf.expand_dims(img_array, 0) # Create a batch\r\n",
        "\r\n",
        "\r\n",
        "predictions = model.predict(img_array)\r\n",
        "print(predictions)\r\n",
        "score = tf.nn.softmax(predictions[0])\r\n",
        "print(score)\r\n",
        "print(\r\n",
        "    \"This image most likely belongs to {} with a {:.2f} percent confidence.\"\r\n",
        "    .format(class_names[np.argmax(score)], 100 * np.max(score))\r\n",
        ")"
      ],
      "execution_count": 60,
      "outputs": [
        {
          "output_type": "stream",
          "text": [
            "[[3.1585549e-04 9.9930382e-01 3.6744590e-04 8.3424784e-06 1.0702983e-06\n",
            "  3.4335787e-06]]\n",
            "tf.Tensor([0.12962353 0.35199687 0.12963022 0.12958369 0.12958273 0.12958305], shape=(6,), dtype=float32)\n",
            "This image most likely belongs to Thepla with a 35.20 percent confidence.\n"
          ],
          "name": "stdout"
        }
      ]
    },
    {
      "cell_type": "code",
      "metadata": {
        "id": "WsXdnibucyTy"
      },
      "source": [
        ""
      ],
      "execution_count": 50,
      "outputs": []
    }
  ]
}